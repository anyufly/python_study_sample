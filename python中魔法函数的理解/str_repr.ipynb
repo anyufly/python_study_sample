{
 "cells": [
  {
   "cell_type": "code",
   "execution_count": null,
   "metadata": {},
   "outputs": [],
   "source": [
    "class BookCollection:\n",
    "    def __init__(self, book_list):\n",
    "        self.book_list = book_list\n",
    "        \n",
    "    def __str__(self):\n",
    "        return 'str:' + \",\".join(self.book_list)\n",
    "    \n",
    "    def __repr__(self):\n",
    "        return 'repr:' + \",\".join(self.book_list)"
   ]
  },
  {
   "cell_type": "code",
   "execution_count": 12,
   "metadata": {},
   "outputs": [
    {
     "name": "stdout",
     "output_type": "stream",
     "text": [
      "str:不能承受的生命之轻,追风筝的人,皮囊\n"
     ]
    },
    {
     "data": {
      "text/plain": [
       "repr:不能承受的生命之轻,追风筝的人,皮囊"
      ]
     },
     "execution_count": 12,
     "metadata": {},
     "output_type": "execute_result"
    }
   ],
   "source": [
    "book_collection = BookCollection(['不能承受的生命之轻', '追风筝的人','皮囊'])\n",
    "print(book_collection)\n",
    "book_collection"
   ]
  },
  {
   "cell_type": "code",
   "execution_count": null,
   "metadata": {},
   "outputs": [],
   "source": []
  }
 ],
 "metadata": {
  "kernelspec": {
   "display_name": "Python 3",
   "language": "python",
   "name": "python3"
  },
  "language_info": {
   "codemirror_mode": {
    "name": "ipython",
    "version": 3
   },
   "file_extension": ".py",
   "mimetype": "text/x-python",
   "name": "python",
   "nbconvert_exporter": "python",
   "pygments_lexer": "ipython3",
   "version": "3.7.0"
  }
 },
 "nbformat": 4,
 "nbformat_minor": 2
}
